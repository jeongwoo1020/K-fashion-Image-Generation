{
  "nbformat": 4,
  "nbformat_minor": 0,
  "metadata": {
    "colab": {
      "provenance": []
    },
    "kernelspec": {
      "name": "python3",
      "display_name": "Python 3"
    },
    "language_info": {
      "name": "python"
    }
  },
  "cells": [
    {
      "cell_type": "markdown",
      "source": [
        "###필요한 모듈 import"
      ],
      "metadata": {
        "id": "hdkzOZw4ruSX"
      }
    },
    {
      "cell_type": "code",
      "source": [
        "!pip install --upgrade openai"
      ],
      "metadata": {
        "id": "jPvJN5l4qu8O"
      },
      "execution_count": null,
      "outputs": []
    },
    {
      "cell_type": "code",
      "source": [
        "import os\n",
        "import json\n",
        "import openai  # GPT API 호출을 위한 라이브러리\n",
        "import base64"
      ],
      "metadata": {
        "id": "PXkXBg2SrXus"
      },
      "execution_count": null,
      "outputs": []
    },
    {
      "cell_type": "code",
      "source": [
        "OPENAI_API_KEY = \"YOUR-API-KEY\""
      ],
      "metadata": {
        "id": "jGzp-5SirZvf"
      },
      "execution_count": null,
      "outputs": []
    },
    {
      "cell_type": "markdown",
      "source": [
        "###이미지 base64 인코딩 함수"
      ],
      "metadata": {
        "id": "AwmXQzRzrxO2"
      }
    },
    {
      "cell_type": "code",
      "source": [
        "def encode_image(image_path):\n",
        "    with open(image_path, \"rb\") as image_file:\n",
        "        return base64.b64encode(image_file.read()).decode(\"utf-8\")"
      ],
      "metadata": {
        "id": "RuTHcsgfqzOK"
      },
      "execution_count": null,
      "outputs": []
    },
    {
      "cell_type": "markdown",
      "source": [
        "###GPT API를 활용하여 이미지 설명 생성하는 함수"
      ],
      "metadata": {
        "id": "b38inuXgr3jO"
      }
    },
    {
      "cell_type": "code",
      "source": [
        "def generate_fashion_description(image_path):\n",
        "\n",
        "    encoded_image = encode_image(image_path)\n",
        "\n",
        "    prompt = '''\n",
        "    You are a creative fashion image captioning assistant. Generate a two-sentence description of a fashion outfit based on the image.\n",
        "\n",
        "    If shoes or footwear are clearly visible: Describe the footwear factually using this exact format:\n",
        "      'The outfit is styled with [type of footwear] featuring [notable characteristics].'\n",
        "\n",
        "    If footwear is not visible or cannot be identified: Skip the first sentence.\n",
        "\n",
        "    Always include this sentence: Add a stylized, emotional summary using this exact format: 'This [style] look evokes [mood], perfect for [season]’s [setting].'\n",
        "\n",
        "    To encourage variety and consistency, follow these expression banks:\n",
        "    Use the [style] to guide the selection of [mood] from its matching group. Do not reuse the same word across multiple generations. Be creative, polished, and fashion-forward.\n",
        "\n",
        "    [Style → Recommended Mood Group]\n",
        "    • sexy → Bold & Edgy(bold, fierce, rebellious, confident, daring, sharp)\n",
        "    • elegant → Chic & Sophisticated(elegant, refined, polished, timeless, understated)\n",
        "    • casual → Youthful & Playful(playful, spirited, fresh, bubbly, carefree)\n",
        "    • chic → Chic & Sophisticated / Soft & Serene(dreamy, tranquil, poetic, gentle, graceful, airy)\n",
        "    • vintage → Romantic & Feminine(romantic, sweet, whimsical, delicate, nostalgic) / Soft & Serene\n",
        "    • minimalist → Soft & Serene / Chic & Sophisticated\n",
        "    • street → Bold & Edgy / Youthful & Playful\n",
        "    • preppy → Youthful & Playful / Romantic & Feminine\n",
        "\n",
        "    [Setting Bank – time/place/occasion examples]\n",
        "    daily wear, a casual café outing, a weekend getaway, a beach day, a picnic in the park, a morning run, a mountain hike, a school day, a yoga session, a romantic date, a stroll on campus, a stylish office day, a cozy camping trip, a summer festival, a wedding ceremony, a first date, a casual tennis match, a day at the pool, a confident interview, a formal family gathering\n",
        "\n",
        "    —\n",
        "    Example Outputs:\n",
        "    - The outfit is styled with white two-strap flat sandals featuring a minimal open-toe design. This minimalist look evokes poetic softness, perfect for a summer afternoon gallery stroll.\n",
        "    - This vintage look evokes whimsical charm, perfect for an early autumn countryside wedding.\n",
        "    - The outfit is styled with black leather ankle boots featuring a pointed toe and zipper trim. This sexy look evokes fierce confidence, perfect for a rooftop evening soirée.\n",
        "    - The outfit is styled with off-white ankle boots featuring a matte finish and minimal silhouette. This romantic look evokes vintage whimsy, perfect for a golden-hued autumn bookstore visit.\n",
        "    '''\n",
        "\n",
        "    client = openai.OpenAI(api_key=OPENAI_API_KEY)\n",
        "\n",
        "    response = client.chat.completions.create(\n",
        "        model=\"gpt-4o\",\n",
        "        messages=[\n",
        "            {\"role\": \"system\", \"content\": prompt},\n",
        "            {\n",
        "                \"role\": \"user\",\n",
        "                \"content\": [\n",
        "                    {\"type\": \"text\", \"text\": \"This is the fashion image related to the provided metadata.\"},\n",
        "                    {\"type\": \"image_url\", \"image_url\": {\"url\": f\"data:image/jpeg;base64,{encoded_image}\"}}\n",
        "                ]\n",
        "            }\n",
        "        ],\n",
        "        temperature=1.0,\n",
        "        max_tokens=100\n",
        "    )\n",
        "\n",
        "    return response.choices[0].message.content"
      ],
      "metadata": {
        "id": "zZec-4icq5Az"
      },
      "execution_count": null,
      "outputs": []
    },
    {
      "cell_type": "markdown",
      "source": [
        "###이미지 경로 설정 후 각 폴더 별 n개의 이미지 설명 출력"
      ],
      "metadata": {
        "id": "0GX0Ve1ssVb0"
      }
    },
    {
      "cell_type": "code",
      "source": [
        "base_dir = \"./원천데이터/원천데이터_1\"\n",
        "style_folders = [\"레트로\", \"로맨틱\", \"리조트\"]\n",
        "\n",
        "results = []\n",
        "\n",
        "for style in style_folders:\n",
        "    folder_path = os.path.join(base_dir, style)\n",
        "    all_files = os.listdir(folder_path)\n",
        "\n",
        "    selected_images = all_files[:10] #각 폴더 별 10개의 이미지 설명 출력\n",
        "\n",
        "    for image_file in selected_images:\n",
        "        image_path = os.path.join(folder_path, image_file)\n",
        "        try:\n",
        "            description = generate_fashion_description(image_path)\n",
        "            print(f\"\\n [{style}] {image_file}\")\n",
        "            print(description)\n",
        "            results.append((style, image_file, description))\n",
        "        except Exception as e:\n",
        "            print(f\"❌ Error processing {image_file}: {e}\")\n"
      ],
      "metadata": {
        "id": "akg7HmVmq6-G"
      },
      "execution_count": null,
      "outputs": []
    }
  ]
}